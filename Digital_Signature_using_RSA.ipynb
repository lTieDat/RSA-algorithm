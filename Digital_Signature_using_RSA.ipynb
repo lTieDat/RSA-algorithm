{
  "nbformat": 4,
  "nbformat_minor": 0,
  "metadata": {
    "colab": {
      "provenance": [],
      "authorship_tag": "ABX9TyPXWm0k4Jre7uTJCP7RUCzD",
      "include_colab_link": true
    },
    "kernelspec": {
      "name": "python3",
      "display_name": "Python 3"
    },
    "language_info": {
      "name": "python"
    }
  },
  "cells": [
    {
      "cell_type": "markdown",
      "metadata": {
        "id": "view-in-github",
        "colab_type": "text"
      },
      "source": [
        "<a href=\"https://colab.research.google.com/github/lTieDat/RSA-algorithm/blob/main/Digital_Signature_using_RSA.ipynb\" target=\"_parent\"><img src=\"https://colab.research.google.com/assets/colab-badge.svg\" alt=\"Open In Colab\"/></a>"
      ]
    },
    {
      "cell_type": "code",
      "execution_count": 1,
      "metadata": {
        "colab": {
          "base_uri": "https://localhost:8080/"
        },
        "id": "gcodkueGOcW5",
        "outputId": "901d2932-5e81-4e3f-e985-148b5c90407d"
      },
      "outputs": [
        {
          "output_type": "stream",
          "name": "stdout",
          "text": [
            "Collecting pycryptodome\n",
            "  Downloading pycryptodome-3.20.0-cp35-abi3-manylinux_2_17_x86_64.manylinux2014_x86_64.whl (2.1 MB)\n",
            "\u001b[?25l     \u001b[90m━━━━━━━━━━━━━━━━━━━━━━━━━━━━━━━━━━━━━━━━\u001b[0m \u001b[32m0.0/2.1 MB\u001b[0m \u001b[31m?\u001b[0m eta \u001b[36m-:--:--\u001b[0m\r\u001b[2K     \u001b[91m━━━━\u001b[0m\u001b[90m╺\u001b[0m\u001b[90m━━━━━━━━━━━━━━━━━━━━━━━━━━━━━━━━━━━\u001b[0m \u001b[32m0.2/2.1 MB\u001b[0m \u001b[31m6.7 MB/s\u001b[0m eta \u001b[36m0:00:01\u001b[0m\r\u001b[2K     \u001b[90m━━━━━━━━━━━━━━━━━━━━━━━━━━━━━━━━━━━━━━━━\u001b[0m \u001b[32m2.1/2.1 MB\u001b[0m \u001b[31m32.9 MB/s\u001b[0m eta \u001b[36m0:00:00\u001b[0m\n",
            "\u001b[?25hInstalling collected packages: pycryptodome\n",
            "Successfully installed pycryptodome-3.20.0\n"
          ]
        }
      ],
      "source": [
        "pip install pycryptodome"
      ]
    },
    {
      "cell_type": "code",
      "source": [
        "from Crypto.PublicKey import RSA\n",
        "\n",
        "keyPair = RSA.generate(bits=1024)\n",
        "print(f\"Public key:  (n={hex(keyPair.n)}, e={hex(keyPair.e)})\")\n",
        "print(f\"Private key: (n={hex(keyPair.n)}, d={hex(keyPair.d)})\")"
      ],
      "metadata": {
        "colab": {
          "base_uri": "https://localhost:8080/"
        },
        "id": "VT2-g6HCOhUs",
        "outputId": "1ca958ac-b4cd-49c5-f96b-2593f58ed7e2"
      },
      "execution_count": 2,
      "outputs": [
        {
          "output_type": "stream",
          "name": "stdout",
          "text": [
            "Public key:  (n=0xd4dc5066867510eb384f3cd01be756a5caf032ddf2626d711e622c77d32ef776f2e5ec562d2aa11d62c3ee6418ed8c69b227696b3825489f8ef7ede0deb67d845df22825447c088cd97e86e7c94d07951de2ae7aea244f1b0ff18839bf91b331be8f283a4032c19c2b51f4d480dd8298dd07408da497db72b579667e4cf8ade3, e=0x10001)\n",
            "Private key: (n=0xd4dc5066867510eb384f3cd01be756a5caf032ddf2626d711e622c77d32ef776f2e5ec562d2aa11d62c3ee6418ed8c69b227696b3825489f8ef7ede0deb67d845df22825447c088cd97e86e7c94d07951de2ae7aea244f1b0ff18839bf91b331be8f283a4032c19c2b51f4d480dd8298dd07408da497db72b579667e4cf8ade3, d=0x2ef71d5641bc7aab2b9570198ace9433a87f2efa018cee10d35f5de862542e8db4323edf14c01f2458b25a5b039506321bf8ce2db609a3e870a70b795e2a6daeebc2004e61e036d829b3ab0dde058459361f22e239a8fe1653da3c05e44c3349f5966becc3f705e35cbe0df31b849c3440bb6465ba03f2c6d712184445e59401)\n"
          ]
        }
      ]
    },
    {
      "cell_type": "code",
      "source": [
        "# RSA sign the message\n",
        "msg = b'A message for signing'\n",
        "from hashlib import sha512\n",
        "hash = int.from_bytes(sha512(msg).digest(), byteorder='big')\n",
        "signature = pow(hash, keyPair.d, keyPair.n)\n",
        "print(\"Signature:\", hex(signature))"
      ],
      "metadata": {
        "colab": {
          "base_uri": "https://localhost:8080/"
        },
        "id": "PsxFFHvuOotf",
        "outputId": "a561747f-4813-414f-99d1-e79048a307eb"
      },
      "execution_count": 3,
      "outputs": [
        {
          "output_type": "stream",
          "name": "stdout",
          "text": [
            "Signature: 0x8822ba54b6fe279ec2b939422331972a6e86298a6bac16d54c7794cb6948737937f8c5a6b2f57aadda6979f0e4f8f04b4d3f71e8456908623144ee9fe722865420ff3519ef0542a254ccf3eddbc0dd6ff0eb7603a04cb1758f1f618352b9a1fdccedbd8463ec318e268ed2b3bb4c12dcb65dd8c1d93bacaaed83a6f33a2910b0\n"
          ]
        }
      ]
    },
    {
      "cell_type": "code",
      "source": [
        "# RSA verify signature\n",
        "msg = b'A message for signing'\n",
        "hash = int.from_bytes(sha512(msg).digest(), byteorder='big')\n",
        "hashFromSignature = pow(signature, keyPair.e, keyPair.n)\n",
        "print(\"Signature valid:\", hash == hashFromSignature)"
      ],
      "metadata": {
        "colab": {
          "base_uri": "https://localhost:8080/"
        },
        "id": "3vjUCWQMOxiL",
        "outputId": "a566d6e5-e39f-4b20-a2a8-df3e1f736b2c"
      },
      "execution_count": 4,
      "outputs": [
        {
          "output_type": "stream",
          "name": "stdout",
          "text": [
            "Signature valid: True\n"
          ]
        }
      ]
    },
    {
      "cell_type": "code",
      "source": [
        "# RSA verify signature (tampered msg)\n",
        "msg = b'A message for signing (tampered)'\n",
        "hash = int.from_bytes(sha512(msg).digest(), byteorder='big')\n",
        "hashFromSignature = pow(signature, keyPair.e, keyPair.n)\n",
        "print(\"Signature valid (tampered):\", hash == hashFromSignature)"
      ],
      "metadata": {
        "colab": {
          "base_uri": "https://localhost:8080/"
        },
        "id": "_dxTCUcaOybp",
        "outputId": "b2fd1ef4-b35b-4b49-d454-22d195fe21aa"
      },
      "execution_count": 5,
      "outputs": [
        {
          "output_type": "stream",
          "name": "stdout",
          "text": [
            "Signature valid (tampered): False\n"
          ]
        }
      ]
    }
  ]
}